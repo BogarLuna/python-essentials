{
 "cells": [
  {
   "cell_type": "markdown",
   "id": "0c613109-4f03-41b8-8467-26b5e9630a03",
   "metadata": {},
   "source": [
    "## Reading files"
   ]
  },
  {
   "cell_type": "code",
   "execution_count": 2,
   "id": "ffbb4e1e-667a-4c01-93ed-23d7dfb2ea0e",
   "metadata": {},
   "outputs": [
    {
     "name": "stdout",
     "output_type": "stream",
     "text": [
      "Una API (del inglés, application programming interface, en español, interfaz de programación de aplicaciones)\n",
      "1​ es una pieza de código que permite a diferentes aplicaciones comunicarse entre sí y compartir información \n",
      "y funcionalidades. Una API es un intermediario entre dos sistemas, que permite que una aplicación se \n",
      "comunique con otra y pida datos o acciones específicas.\n",
      "\n",
      "Por ejemplo, si se tiene una app para móviles acerca de recetas y se hace una búsqueda de una determinada \n",
      "receta, se puede utilizar una API para que esta aplicación se comunique con el sitio web de recetas y pida las \n",
      "recetas que cumplen con los criterios de búsqueda. La API entonces se encarga de recibir la solicitud, buscar \n",
      "las recetas apropiadas y regresar los resultados a la aplicación. Una API es una forma de conectar diferentes aplicaciones y\n",
      "hacer que trabajen juntas de manera más eficiente y efectiva.2​ Son usadas generalmente en las bibliotecas de programación.\n",
      "\n",
      "Características\n",
      "Una API representa la capacidad de comunicación entre componentes de software. Se trata del conjunto de llamadas a ciertas \n",
      "bibliotecas que ofrecen acceso a ciertos servicios desde los procesos y representa un método para conseguir abstracción en la programación, \n",
      "generalmente (aunque no necesariamente) entre los niveles o capas inferiores y los superiores del software. Uno de los principales propósitos \n",
      "de una API consiste en proporcionar un conjunto de funciones de uso general, por ejemplo, para dibujar ventanas o iconos en la pantalla. \n",
      "De esta forma, los programadores se benefician de las ventajas de las API haciendo uso de su funcionalidad, evitándose el trabajo de programar \n",
      "todo desde el principio. Las API asimismo son abstractas: el software que proporciona una cierta API generalmente es llamado la implementación de esa API. \n"
     ]
    }
   ],
   "source": [
    "with open('text.txt','r') as file:\n",
    "    file = file.read()\n",
    "    print(file)"
   ]
  },
  {
   "cell_type": "markdown",
   "id": "0197c3f2-3e8b-45c5-bb75-9de8a97b905c",
   "metadata": {},
   "source": [
    "## Writing into file"
   ]
  },
  {
   "cell_type": "code",
   "execution_count": 3,
   "id": "02314004-9fa2-4576-9fbe-9981fc66e55a",
   "metadata": {},
   "outputs": [],
   "source": [
    "with open('hello.txt','w') as file:\n",
    "    file.write(\"Hello, this was write from python\")"
   ]
  },
  {
   "cell_type": "markdown",
   "id": "58d27d88-90d1-4d44-ab78-ee98175dad42",
   "metadata": {},
   "source": [
    "## Append into file"
   ]
  },
  {
   "cell_type": "code",
   "execution_count": 5,
   "id": "88c2e40b-4128-4e73-8df6-e7231124ee73",
   "metadata": {},
   "outputs": [],
   "source": [
    "with open('hello.txt','a') as file:\n",
    "    file.write(\"\\nHello, this was append from python\")"
   ]
  },
  {
   "cell_type": "markdown",
   "id": "2441e843-8470-481e-84cb-15463d64d3a3",
   "metadata": {},
   "source": [
    "## Reading Lines into a List"
   ]
  },
  {
   "cell_type": "code",
   "execution_count": 6,
   "id": "8910c13d-d02a-4e0d-8c2a-271a07ee8219",
   "metadata": {},
   "outputs": [
    {
     "name": "stdout",
     "output_type": "stream",
     "text": [
      "['Hello, this was write from python\\n', 'Hello, this was append from python']\n"
     ]
    }
   ],
   "source": [
    "with open('hello.txt', 'r') as file:\n",
    "    lines = file.readlines()\n",
    "    print(lines)"
   ]
  },
  {
   "cell_type": "markdown",
   "id": "491292c6-b5db-4606-8e7f-64c008e306bc",
   "metadata": {},
   "source": [
    "## Iterating Over Each Line in a File"
   ]
  },
  {
   "cell_type": "code",
   "execution_count": 7,
   "id": "611ae209-fceb-41ff-a885-33dd6eb8bcef",
   "metadata": {},
   "outputs": [
    {
     "name": "stdout",
     "output_type": "stream",
     "text": [
      "Una API (del inglés, application programming interface, en español, interfaz de programación de aplicaciones)\n",
      "1​ es una pieza de código que permite a diferentes aplicaciones comunicarse entre sí y compartir información\n",
      "y funcionalidades. Una API es un intermediario entre dos sistemas, que permite que una aplicación se\n",
      "comunique con otra y pida datos o acciones específicas.\n",
      "\n",
      "Por ejemplo, si se tiene una app para móviles acerca de recetas y se hace una búsqueda de una determinada\n",
      "receta, se puede utilizar una API para que esta aplicación se comunique con el sitio web de recetas y pida las\n",
      "recetas que cumplen con los criterios de búsqueda. La API entonces se encarga de recibir la solicitud, buscar\n",
      "las recetas apropiadas y regresar los resultados a la aplicación. Una API es una forma de conectar diferentes aplicaciones y\n",
      "hacer que trabajen juntas de manera más eficiente y efectiva.2​ Son usadas generalmente en las bibliotecas de programación.\n",
      "\n",
      "Características\n",
      "Una API representa la capacidad de comunicación entre componentes de software. Se trata del conjunto de llamadas a ciertas\n",
      "bibliotecas que ofrecen acceso a ciertos servicios desde los procesos y representa un método para conseguir abstracción en la programación,\n",
      "generalmente (aunque no necesariamente) entre los niveles o capas inferiores y los superiores del software. Uno de los principales propósitos\n",
      "de una API consiste en proporcionar un conjunto de funciones de uso general, por ejemplo, para dibujar ventanas o iconos en la pantalla.\n",
      "De esta forma, los programadores se benefician de las ventajas de las API haciendo uso de su funcionalidad, evitándose el trabajo de programar\n",
      "todo desde el principio. Las API asimismo son abstractas: el software que proporciona una cierta API generalmente es llamado la implementación de esa API.\n"
     ]
    }
   ],
   "source": [
    "with open('text.txt', 'r') as file:\n",
    "    for line in file:\n",
    "        print(line.strip())"
   ]
  },
  {
   "cell_type": "markdown",
   "id": "0193520a-460a-4d8a-b4af-3454f16ed182",
   "metadata": {},
   "source": [
    "## Checking If a File Exists"
   ]
  },
  {
   "cell_type": "code",
   "execution_count": 8,
   "id": "1148e49f-baeb-4877-a1d8-eff16d30614a",
   "metadata": {},
   "outputs": [
    {
     "name": "stdout",
     "output_type": "stream",
     "text": [
      "File exists.\n"
     ]
    }
   ],
   "source": [
    "import os\n",
    "if os.path.exists('text.txt'):\n",
    "    print('File exists.')\n",
    "else:\n",
    "    print('File does not exist.')"
   ]
  },
  {
   "cell_type": "markdown",
   "id": "d1880c17-8c90-4f54-9550-e7276b216cae",
   "metadata": {},
   "source": [
    "## Writing Lists to a File"
   ]
  },
  {
   "cell_type": "code",
   "execution_count": 9,
   "id": "35e0ad4d-2a39-4d39-8cf7-6c50205fc3b6",
   "metadata": {},
   "outputs": [],
   "source": [
    "lines = ['First line', 'Second line', 'Third line']\n",
    "with open('new_file.txt', 'w') as file:\n",
    "    for line in lines:\n",
    "        file.write(f'{line}\\n')"
   ]
  },
  {
   "cell_type": "markdown",
   "id": "8f215501-86fa-4e63-9bab-5cfd98d16945",
   "metadata": {},
   "source": [
    "## Using With Blocks for Multiple Files"
   ]
  },
  {
   "cell_type": "code",
   "execution_count": 10,
   "id": "210b4e7d-0b3f-4b01-8e12-f69831406631",
   "metadata": {},
   "outputs": [],
   "source": [
    "with open('text.txt', 'r') as source, open('destination.txt', 'w') as destination:\n",
    "    content = source.read()\n",
    "    destination.write(content)"
   ]
  },
  {
   "cell_type": "markdown",
   "id": "544ccdf4-5d58-4692-8e34-5ceec9b6449a",
   "metadata": {},
   "source": [
    "## Deleting a File"
   ]
  },
  {
   "cell_type": "code",
   "execution_count": 11,
   "id": "3590f4e8-2ea6-41b1-95f3-c8d8ee02bc37",
   "metadata": {},
   "outputs": [
    {
     "name": "stdout",
     "output_type": "stream",
     "text": [
      "File does not exist.\n"
     ]
    }
   ],
   "source": [
    "import os\n",
    "if os.path.exists('example.txt'):\n",
    "    os.remove('example.txt')\n",
    "    print('File deleted.')\n",
    "else:\n",
    "    print('File does not exist.')"
   ]
  },
  {
   "cell_type": "markdown",
   "id": "1e048d68-5cf4-4dfb-85bd-f181a04e15b7",
   "metadata": {},
   "source": [
    "## Reading and Writing Binary Files"
   ]
  },
  {
   "cell_type": "code",
   "execution_count": null,
   "id": "30a026e8-7e04-450e-8751-a1dc233d5338",
   "metadata": {},
   "outputs": [],
   "source": [
    "# Reading a binary file\n",
    "with open('image.jpg', 'rb') as file:\n",
    "    content = file.read()\n",
    "# Writing to a binary file\n",
    "with open('copy.jpg', 'wb') as file:\n",
    "    file.write(content)"
   ]
  }
 ],
 "metadata": {
  "kernelspec": {
   "display_name": "Python 3 (ipykernel)",
   "language": "python",
   "name": "python3"
  },
  "language_info": {
   "codemirror_mode": {
    "name": "ipython",
    "version": 3
   },
   "file_extension": ".py",
   "mimetype": "text/x-python",
   "name": "python",
   "nbconvert_exporter": "python",
   "pygments_lexer": "ipython3",
   "version": "3.11.5"
  }
 },
 "nbformat": 4,
 "nbformat_minor": 5
}
