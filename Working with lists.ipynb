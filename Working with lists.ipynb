{
 "cells": [
  {
   "cell_type": "markdown",
   "id": "cfcc54ff-2753-4d25-ac38-101b47c2458b",
   "metadata": {},
   "source": [
    "## 1. Creating a List"
   ]
  },
  {
   "cell_type": "code",
   "execution_count": 8,
   "id": "b0c24118-b5ec-4566-b08b-25ca198eb149",
   "metadata": {},
   "outputs": [],
   "source": [
    "elements = ['Earth', 'Air', 'Fire', 'Water']"
   ]
  },
  {
   "cell_type": "markdown",
   "id": "22568ad6-e0c9-4a86-90fc-f8fba87b9d05",
   "metadata": {},
   "source": [
    "## 2. Appending to a List"
   ]
  },
  {
   "cell_type": "code",
   "execution_count": 9,
   "id": "4076224a-8990-4c03-9182-32248a9457b3",
   "metadata": {},
   "outputs": [
    {
     "data": {
      "text/plain": [
       "['Earth', 'Air', 'Fire', 'Water', 'Aether']"
      ]
     },
     "execution_count": 9,
     "metadata": {},
     "output_type": "execute_result"
    }
   ],
   "source": [
    "elements.append('Aether')\n",
    "elements"
   ]
  },
  {
   "cell_type": "markdown",
   "id": "e5b06786-b321-4739-9f22-f45a5b0b83a9",
   "metadata": {},
   "source": [
    "## 3. Inserting into a List"
   ]
  },
  {
   "cell_type": "code",
   "execution_count": 10,
   "id": "ba2fd7f0-504e-4546-8b23-d647f1c820a3",
   "metadata": {},
   "outputs": [
    {
     "data": {
      "text/plain": [
       "['Earth', 'Spirit', 'Air', 'Fire', 'Water', 'Aether']"
      ]
     },
     "execution_count": 10,
     "metadata": {},
     "output_type": "execute_result"
    }
   ],
   "source": [
    "elements.insert(1, 'Spirit')\n",
    "elements"
   ]
  },
  {
   "cell_type": "markdown",
   "id": "3751c959-3a11-4553-8be2-ce130bc2f398",
   "metadata": {},
   "source": [
    "## 4. Removing from a List"
   ]
  },
  {
   "cell_type": "code",
   "execution_count": 11,
   "id": "1cc4258f-847b-476f-aae8-707589872ac3",
   "metadata": {},
   "outputs": [
    {
     "data": {
      "text/plain": [
       "['Spirit', 'Air', 'Fire', 'Water', 'Aether']"
      ]
     },
     "execution_count": 11,
     "metadata": {},
     "output_type": "execute_result"
    }
   ],
   "source": [
    "elements.remove('Earth') \n",
    "elements"
   ]
  },
  {
   "cell_type": "markdown",
   "id": "d185921d-acf7-469a-bbdc-df66ccba4ccd",
   "metadata": {},
   "source": [
    "## 5. Popping an Element from a List"
   ]
  },
  {
   "cell_type": "code",
   "execution_count": 12,
   "id": "80a836ae-807e-4e22-a645-03cc2a1fc834",
   "metadata": {},
   "outputs": [
    {
     "name": "stdout",
     "output_type": "stream",
     "text": [
      "Aether\n"
     ]
    },
    {
     "data": {
      "text/plain": [
       "['Spirit', 'Air', 'Fire', 'Water']"
      ]
     },
     "execution_count": 12,
     "metadata": {},
     "output_type": "execute_result"
    }
   ],
   "source": [
    "last_element = elements.pop()\n",
    "print(last_element)\n",
    "elements"
   ]
  },
  {
   "cell_type": "markdown",
   "id": "f91b41b2-82c0-4412-a5f2-8522ca2e2eef",
   "metadata": {},
   "source": [
    "## 6. Finding the Index of an Element"
   ]
  },
  {
   "cell_type": "code",
   "execution_count": 13,
   "id": "462f1632-162f-47a7-8525-a3849dbe7a98",
   "metadata": {},
   "outputs": [
    {
     "data": {
      "text/plain": [
       "1"
      ]
     },
     "execution_count": 13,
     "metadata": {},
     "output_type": "execute_result"
    }
   ],
   "source": [
    "index_of_air = elements.index('Air')\n",
    "index_of_air"
   ]
  },
  {
   "cell_type": "markdown",
   "id": "7cbaf357-7deb-45e8-8f28-bd4adc61a010",
   "metadata": {},
   "source": [
    "## 7. List Slicing"
   ]
  },
  {
   "cell_type": "code",
   "execution_count": 15,
   "id": "3713540e-95ce-4c4e-8b6e-17b1abeadb2b",
   "metadata": {},
   "outputs": [
    {
     "data": {
      "text/plain": [
       "['Air', 'Fire', 'Water']"
      ]
     },
     "execution_count": 15,
     "metadata": {},
     "output_type": "execute_result"
    }
   ],
   "source": [
    "sub_elements = elements[1:4]\n",
    "sub_elements"
   ]
  },
  {
   "cell_type": "markdown",
   "id": "5c87e357-3b5d-473b-a867-69e58d3098f8",
   "metadata": {},
   "source": [
    "## 8. List Comprehension"
   ]
  },
  {
   "cell_type": "code",
   "execution_count": 16,
   "id": "e1e66ff0-5f49-4c13-b1f2-ce1f6fcdd400",
   "metadata": {},
   "outputs": [
    {
     "data": {
      "text/plain": [
       "[6, 3, 4, 5]"
      ]
     },
     "execution_count": 16,
     "metadata": {},
     "output_type": "execute_result"
    }
   ],
   "source": [
    "lengths = [len(element) for element in elements]\n",
    "lengths"
   ]
  },
  {
   "cell_type": "markdown",
   "id": "369e61b5-67fa-4efc-910a-c11cfa9e924f",
   "metadata": {},
   "source": [
    "## 9. Sorting a List"
   ]
  },
  {
   "cell_type": "code",
   "execution_count": 19,
   "id": "41035723-5b22-4b5f-af72-c265e685e532",
   "metadata": {},
   "outputs": [
    {
     "data": {
      "text/plain": [
       "['Air', 'Fire', 'Spirit', 'Water']"
      ]
     },
     "execution_count": 19,
     "metadata": {},
     "output_type": "execute_result"
    }
   ],
   "source": [
    "elements.sort()\n",
    "elements"
   ]
  },
  {
   "cell_type": "markdown",
   "id": "a403e8cf-c7e7-491a-979a-ac1f9770eb02",
   "metadata": {},
   "source": [
    "## 10. Reversing a List"
   ]
  },
  {
   "cell_type": "code",
   "execution_count": 21,
   "id": "22a5ff44-3c2b-4d34-b051-985676f67e75",
   "metadata": {},
   "outputs": [
    {
     "data": {
      "text/plain": [
       "['Air', 'Fire', 'Spirit', 'Water']"
      ]
     },
     "execution_count": 21,
     "metadata": {},
     "output_type": "execute_result"
    }
   ],
   "source": [
    "elements.reverse()\n",
    "elements"
   ]
  },
  {
   "cell_type": "code",
   "execution_count": 23,
   "id": "965bdda4-5ba0-4f1c-a1a9-9e3741a20c1e",
   "metadata": {},
   "outputs": [
    {
     "name": "stdout",
     "output_type": "stream",
     "text": [
      "0 Air\n",
      "1 Fire\n",
      "2 Spirit\n",
      "3 Water\n"
     ]
    }
   ],
   "source": [
    "for ind, num in enumerate(elements):\n",
    "    print(ind,num)"
   ]
  },
  {
   "cell_type": "markdown",
   "id": "15e8bd84-03ad-4c17-a8d5-a399e9258ca6",
   "metadata": {},
   "source": [
    "## Tests with lists"
   ]
  },
  {
   "cell_type": "code",
   "execution_count": 45,
   "id": "0d8ebe22-dd0e-4b21-ac45-ad1531ce346b",
   "metadata": {},
   "outputs": [
    {
     "name": "stdout",
     "output_type": "stream",
     "text": [
      "[6]\n",
      "else [6]\n",
      "else [6, 1]\n",
      "1\n",
      "else [6, 1, 3]\n",
      "1\n",
      "else [6, 1, 5, 3]\n",
      "1\n",
      "else [6, 1, 6, 5, 3]\n",
      "1\n",
      "else [6, 1, 2, 6, 5, 3]\n",
      "1\n",
      "else [6, 1, 4, 2, 6, 5, 3]\n",
      "0\n",
      "else [6, 7, 1, 4, 2, 6, 5, 3]\n",
      "0\n",
      "else [6, 8, 7, 1, 4, 2, 6, 5, 3]\n",
      "3\n"
     ]
    }
   ],
   "source": [
    "numbers=[6,1,3,5,6,2,4,7,8,4]\n",
    "order_num = []\n",
    "for ele in numbers:\n",
    "    if len(order_num)==0:\n",
    "        order_num.append(ele)\n",
    "        print(order_num)\n",
    "    else:\n",
    "        index = 0\n",
    "        print(f'else {order_num}')\n",
    "        for ind,num in enumerate(order_num):\n",
    "            if ele > num:\n",
    "                index = ind\n",
    "                print(ind)\n",
    "                break\n",
    "        order_num.insert(index+,ele)"
   ]
  },
  {
   "cell_type": "code",
   "execution_count": null,
   "id": "b04faf39-77bd-4d01-8630-88d022c49d22",
   "metadata": {},
   "outputs": [],
   "source": [
    "index = len(numbers)-1\n",
    "while index >0 and numbers[index] "
   ]
  },
  {
   "cell_type": "markdown",
   "id": "b3a96437-cbdb-4992-8c7a-60632f9b08be",
   "metadata": {},
   "source": [
    "lists = [i for i in range(10)]"
   ]
  },
  {
   "cell_type": "code",
   "execution_count": 2,
   "id": "06321336-fa24-4685-a5a2-ebf972b80578",
   "metadata": {},
   "outputs": [
    {
     "data": {
      "text/plain": [
       "[0, 1, 2, 3, 4, 5, 6, 7, 8, 9]"
      ]
     },
     "execution_count": 2,
     "metadata": {},
     "output_type": "execute_result"
    }
   ],
   "source": [
    "lists"
   ]
  },
  {
   "cell_type": "code",
   "execution_count": 3,
   "id": "8b0e3e9a-90a7-45a1-a71f-f5f398abac64",
   "metadata": {},
   "outputs": [
    {
     "data": {
      "text/plain": [
       "[0, 1, 2]"
      ]
     },
     "execution_count": 3,
     "metadata": {},
     "output_type": "execute_result"
    }
   ],
   "source": [
    "lists[:3]"
   ]
  },
  {
   "cell_type": "code",
   "execution_count": 4,
   "id": "f20022a9-b6fe-4922-8675-c8efc54ffd4a",
   "metadata": {},
   "outputs": [
    {
     "data": {
      "text/plain": [
       "[0, 1, 2]"
      ]
     },
     "execution_count": 4,
     "metadata": {},
     "output_type": "execute_result"
    }
   ],
   "source": [
    "lists[0:3]"
   ]
  },
  {
   "cell_type": "code",
   "execution_count": 5,
   "id": "e307306b-8e5f-477f-ba25-449ed169fa64",
   "metadata": {},
   "outputs": [
    {
     "data": {
      "text/plain": [
       "[1, 2]"
      ]
     },
     "execution_count": 5,
     "metadata": {},
     "output_type": "execute_result"
    }
   ],
   "source": [
    "lists[1:3]"
   ]
  },
  {
   "cell_type": "code",
   "execution_count": 6,
   "id": "434ed386-921f-4352-b397-cd45dd9889cc",
   "metadata": {},
   "outputs": [
    {
     "data": {
      "text/plain": [
       "[0, 1, 2, 3, 4, 5, 6]"
      ]
     },
     "execution_count": 6,
     "metadata": {},
     "output_type": "execute_result"
    }
   ],
   "source": [
    "lists[0:-3]"
   ]
  },
  {
   "cell_type": "code",
   "execution_count": 7,
   "id": "23af1fa9-2066-4dcb-b841-ce7c81ca887e",
   "metadata": {},
   "outputs": [
    {
     "data": {
      "text/plain": [
       "[0, 1, 2, 3, 4, 5, 6, 7, 8]"
      ]
     },
     "execution_count": 7,
     "metadata": {},
     "output_type": "execute_result"
    }
   ],
   "source": [
    "lists[0:-1]"
   ]
  },
  {
   "cell_type": "code",
   "execution_count": null,
   "id": "fdc356ef-4402-47a8-9ab3-aa62c0f9b0ea",
   "metadata": {},
   "outputs": [],
   "source": []
  }
 ],
 "metadata": {
  "kernelspec": {
   "display_name": "Python 3 (ipykernel)",
   "language": "python",
   "name": "python3"
  },
  "language_info": {
   "codemirror_mode": {
    "name": "ipython",
    "version": 3
   },
   "file_extension": ".py",
   "mimetype": "text/x-python",
   "name": "python",
   "nbconvert_exporter": "python",
   "pygments_lexer": "ipython3",
   "version": "3.11.5"
  }
 },
 "nbformat": 4,
 "nbformat_minor": 5
}
