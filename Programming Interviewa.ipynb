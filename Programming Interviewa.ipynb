{
 "cells": [
  {
   "cell_type": "markdown",
   "id": "fb7c03cf-299f-40c8-8951-18d85be2fea1",
   "metadata": {},
   "source": [
    "## Function to order a list"
   ]
  },
  {
   "cell_type": "code",
   "execution_count": 21,
   "id": "b4f522d3-2ab0-4ed7-bbb5-fc19bf1174a2",
   "metadata": {},
   "outputs": [
    {
     "name": "stdout",
     "output_type": "stream",
     "text": [
      "current value 1 5\n",
      "[2, 5, 7, 3, 8, 4, 2]\n",
      "current value 2 7\n",
      "[2, 5, 7, 3, 8, 4, 2]\n",
      "current value 3 3\n",
      "[2, 3, 5, 7, 8, 4, 2]\n",
      "current value 4 8\n",
      "[2, 3, 5, 7, 8, 4, 2]\n",
      "current value 5 4\n",
      "[2, 3, 4, 5, 7, 8, 2]\n",
      "current value 6 2\n",
      "[2, 2, 3, 4, 5, 7, 8]\n"
     ]
    },
    {
     "data": {
      "text/plain": [
       "[8, 7, 5, 4, 3, 2, 2]"
      ]
     },
     "execution_count": 21,
     "metadata": {},
     "output_type": "execute_result"
    }
   ],
   "source": [
    "from typing import List\n",
    "def sort_list(arr:List)-> List:\n",
    "    for i in range(1,len(arr)):\n",
    "        curr_val = arr[i]\n",
    "        print(f\"current value {i} {curr_val}\")\n",
    "        j = i-1\n",
    "\n",
    "        while j>=0 and arr[j]>curr_val: \n",
    "            arr[j+1] = arr[j]\n",
    "            j-=1\n",
    "        arr[j+1] = curr_val\n",
    "        print(arr)\n",
    "    return arr\n",
    "\n",
    "def reverse_sort_list(arr:List)-> List:\n",
    "    for i in range(1,len(arr)):\n",
    "        curr_val = arr[i]\n",
    "        print(f\"current value {i} {curr_val}\")\n",
    "        j = i-1\n",
    "\n",
    "        while j>=0 and arr[j]<curr_val: \n",
    "            arr[j+1] = arr[j]\n",
    "            j-=1\n",
    "        arr[j+1] = curr_val\n",
    "        print(arr)\n",
    "    return arr\n",
    "\n",
    "def reverse_sort_list1(arr:List)-> List:\n",
    "    for i in range(1,len(arr)):\n",
    "        curr_val = arr[i]\n",
    "        print(f\"current value {i} {curr_val}\")\n",
    "        j = i-1\n",
    "\n",
    "        while j>=0 and arr[j]>curr_val: \n",
    "            arr[j+1] = arr[j]\n",
    "            j-=1\n",
    "        arr[j+1] = curr_val\n",
    "        print(arr)\n",
    "    return arr[::-1]\n",
    "\n",
    "array = [2,5,7,3,8,4,2]\n",
    "#sort_list(array)\n",
    "reverse_sort_list1(array)"
   ]
  },
  {
   "cell_type": "markdown",
   "id": "55ccf4c1-9def-44ca-a392-c8eb45d65e0e",
   "metadata": {},
   "source": [
    "## Write a program to find the factorial of a number using recursion."
   ]
  },
  {
   "cell_type": "code",
   "execution_count": 26,
   "id": "771b3f17-56b4-4d0b-8512-f5c25ed9313a",
   "metadata": {},
   "outputs": [
    {
     "name": "stdout",
     "output_type": "stream",
     "text": [
      "10\n"
     ]
    }
   ],
   "source": [
    "def factorial(n:int)->int:\n",
    "    if n==0:\n",
    "        return 1\n",
    "    else:\n",
    "        return n*factorial(n-1)\n",
    "\n",
    "\n",
    "def sum_factorial(n:int) -> int:\n",
    "    if n==0:\n",
    "        return 0\n",
    "    else: \n",
    "        return n+factorial(n-1)\n",
    "print(sum_factorial(4))"
   ]
  },
  {
   "cell_type": "markdown",
   "id": "289df302-82a5-45c8-94a4-485614c71346",
   "metadata": {},
   "source": [
    "## Fibonacci sequence"
   ]
  },
  {
   "cell_type": "code",
   "execution_count": 40,
   "id": "49a84ad1-3326-4b8e-8dea-d9e0382aad72",
   "metadata": {},
   "outputs": [
    {
     "name": "stdout",
     "output_type": "stream",
     "text": [
      "3\n"
     ]
    }
   ],
   "source": [
    "def fibonacci(n:int):\n",
    "    if n==0:\n",
    "        return 0\n",
    "    elif n==1 or n==2:\n",
    "        return 1\n",
    "    elif n==1 and count==1:\n",
    "        return 0\n",
    "    else:\n",
    "\n",
    "        return fibonacci(n-1) + fibonacci(n-2)\n",
    "\n",
    "print(fibonacci(4))\n",
    "    "
   ]
  },
  {
   "cell_type": "markdown",
   "id": "b788d37b-c5a3-4afb-b627-a6d0424a7061",
   "metadata": {},
   "source": [
    "## Write a program to find the square of the largest element in an array."
   ]
  },
  {
   "cell_type": "code",
   "execution_count": 46,
   "id": "1022da87-392a-4665-941a-22da08445a71",
   "metadata": {},
   "outputs": [
    {
     "name": "stdout",
     "output_type": "stream",
     "text": [
      "64\n"
     ]
    }
   ],
   "source": [
    "def get_square_of_largest(arr):\n",
    "    arr.sort()\n",
    "    if len(arr)>0:\n",
    "        return arr[-1]**2\n",
    "\n",
    "def get_square_of_largest2(arr):\n",
    "    if len(arr) <1:\n",
    "        return \"Array don't have values\"\n",
    "    largest = arr[0]\n",
    "    for ele in arr:\n",
    "        if ele > largest:\n",
    "            largest = ele\n",
    "    return largest**2\n",
    "        \n",
    "\n",
    "array = [2,5,7,3,8,4,2]\n",
    "print(get_square_of_largest2(array))"
   ]
  },
  {
   "cell_type": "markdown",
   "id": "659f5e2e-0d67-4994-8600-896a12a8d1ea",
   "metadata": {},
   "source": [
    "## Write a program to find the number of times a number exists in a list. return in descending order of number of occurrences a number exists."
   ]
  },
  {
   "cell_type": "code",
   "execution_count": 51,
   "id": "d9eb4e38-25c0-47d6-9a2e-f2ec7143d2aa",
   "metadata": {},
   "outputs": [
    {
     "name": "stdout",
     "output_type": "stream",
     "text": [
      "{5: 1, 7: 1, 3: 1, 8: 1, 4: 1, 2: 2}\n"
     ]
    }
   ],
   "source": [
    "def get_times_of_number(arr):\n",
    "    times = {}\n",
    "    for ele in arr:\n",
    "        if times.get(ele):\n",
    "            times[ele] += 1\n",
    "        else:\n",
    "            times[ele] = 1\n",
    "    times = dict(sorted(times.items(),key=lambda x:x[1]))\n",
    "    return times\n",
    "    \n",
    "array = [2,5,7,3,8,4,2]\n",
    "print(get_times_of_number(array))"
   ]
  },
  {
   "cell_type": "markdown",
   "id": "23f7acc1-36c1-4dc2-bfd0-75c442fb443f",
   "metadata": {},
   "source": [
    "## write a program to find a number that is prime or not prime."
   ]
  },
  {
   "cell_type": "code",
   "execution_count": 55,
   "id": "c6252b22-079c-4877-b8e2-85df0540a581",
   "metadata": {},
   "outputs": [
    {
     "data": {
      "text/plain": [
       "'Prime'"
      ]
     },
     "execution_count": 55,
     "metadata": {},
     "output_type": "execute_result"
    }
   ],
   "source": [
    "def get_prime_value(n):\n",
    "    if n < 2:\n",
    "        return \"the number is < 2\"\n",
    "    for i in range(2,n):\n",
    "        if n%i == 0:\n",
    "            return \"No prime\"\n",
    "\n",
    "    return \"Prime\"\n",
    "    \n",
    "get_prime_value(3)\n"
   ]
  },
  {
   "cell_type": "markdown",
   "id": "7700e5e6-2984-447b-ae12-a312f3c67983",
   "metadata": {},
   "source": [
    "## write a program to delete duplicates and return the list without duplicates."
   ]
  },
  {
   "cell_type": "code",
   "execution_count": 59,
   "id": "3827d47e-0f79-4065-94e7-a78e4e1b906d",
   "metadata": {},
   "outputs": [
    {
     "name": "stdout",
     "output_type": "stream",
     "text": [
      "[1, 2, 3, 4, 5]\n"
     ]
    }
   ],
   "source": [
    "def get_list_without_dup(arr):\n",
    "    arr = set(arr)\n",
    "    return list(arr)\n",
    "\n",
    "def get_list_without_dup2(arr):\n",
    "    new_list = []\n",
    "    for ele in arr:\n",
    "        if ele not in new_list:\n",
    "            new_list.append(ele)\n",
    "    return new_list\n",
    "\n",
    "array = [1, 2, 3, 2, 1, 3, 2, 4, 5, 4]\n",
    "print(get_list_without_dup2(array))"
   ]
  },
  {
   "cell_type": "markdown",
   "id": "87ebbbc1-90cd-4dbf-b731-d680730420f1",
   "metadata": {},
   "source": [
    "## Write a program to find the second large number in a list."
   ]
  },
  {
   "cell_type": "code",
   "execution_count": 65,
   "id": "5a968bce-60c4-4b4e-8694-88d16441f54b",
   "metadata": {},
   "outputs": [
    {
     "name": "stdout",
     "output_type": "stream",
     "text": [
      "7\n",
      "7\n"
     ]
    }
   ],
   "source": [
    "def find_second_large_numb(arr):\n",
    "    list(set(arr))\n",
    "    arr.sort()\n",
    "    if len(arr) >1:\n",
    "        return arr[-2]\n",
    "        \n",
    "def find_second_large_numb2(arr):\n",
    "    if len(arr) <1:\n",
    "        return \"does't exists\"\n",
    "    largest =arr[0]\n",
    "    second_largest=0\n",
    "    for ele in arr:\n",
    "        if ele > largest:\n",
    "            second_largest= largest\n",
    "            largest=ele\n",
    "        elif ele > second_largest and largest != ele:\n",
    "            second_largest = ele\n",
    "    return second_largest\n",
    "        \n",
    "array = [2,5,7,3,8,4,2]\n",
    "print(find_second_large_numb(array))\n",
    "print(find_second_large_numb2(array))"
   ]
  },
  {
   "cell_type": "markdown",
   "id": "ce91aee2-b710-486b-8b83-b6db37db7176",
   "metadata": {},
   "source": [
    "## Write a program to find the second-largest negative number in a list."
   ]
  },
  {
   "cell_type": "code",
   "execution_count": 71,
   "id": "85c4ed5a-bd98-48e6-ac0a-3d51c1abbf31",
   "metadata": {},
   "outputs": [
    {
     "name": "stdout",
     "output_type": "stream",
     "text": [
      "[3, -5, -28, 7, -81, 4, -16]\n",
      "-81\n",
      "-28\n"
     ]
    }
   ],
   "source": [
    "def get_second_neg_large(arr):\n",
    "    list(set(arr))\n",
    "    if len(arr) <2:\n",
    "        return \"Second largest doest exists\"\n",
    "    largest=arr[0]\n",
    "    second_lar=0\n",
    "    for ele in arr:\n",
    "        if ele < largest:\n",
    "            second_lar = largest\n",
    "            largest=ele\n",
    "        elif ele > second_lar and ele != largest:\n",
    "            second_lar = ele\n",
    "    print(arr)\n",
    "    print(largest)\n",
    "    return second_lar\n",
    "\n",
    "numbers = [3, -5, -28, 7, -81, 4, -16]\n",
    "print(get_second_neg_large(numbers))"
   ]
  },
  {
   "cell_type": "markdown",
   "id": "13f63147-b460-4681-8728-19488338fa69",
   "metadata": {},
   "source": [
    "## Write a program to reverse the order of words in a sentence."
   ]
  },
  {
   "cell_type": "code",
   "execution_count": 72,
   "id": "350461c4-c593-40e4-8f31-c055589e252c",
   "metadata": {},
   "outputs": [
    {
     "name": "stdout",
     "output_type": "stream",
     "text": [
      "programming python of world the to welcome Hi\n"
     ]
    }
   ],
   "source": [
    "def reverse_words(sentence):\n",
    "    words = sentence.split()[::-1]\n",
    "    new_sentence = ' '.join(words)\n",
    "    return new_sentence\n",
    "\n",
    "\n",
    "input_sentence = \"Hi welcome to the world of python programming\"\n",
    "print(reverse_words(input_sentence))"
   ]
  },
  {
   "cell_type": "markdown",
   "id": "d9245ee8-3b79-4e8e-82e0-b30a8fcc3e34",
   "metadata": {},
   "source": [
    "## Write a program to count the lower and upper case characters in any text or sentence."
   ]
  },
  {
   "cell_type": "code",
   "execution_count": 73,
   "id": "4019e357-32fa-4fab-9a97-e4d469bd3852",
   "metadata": {},
   "outputs": [
    {
     "name": "stdout",
     "output_type": "stream",
     "text": [
      "(4, 34)\n"
     ]
    }
   ],
   "source": [
    "def count_low_up(sentence):\n",
    "    words=sentence\n",
    "    upper=0\n",
    "    lower=0\n",
    "    for word in words:\n",
    "        if word.isupper():\n",
    "            upper +=1\n",
    "        elif word.islower():\n",
    "            lower+=1\n",
    "    return upper,lower\n",
    "input_txt = \"Hi Welcome to the Wrold of Python programming\"\n",
    "print(count_low_up(input_txt))"
   ]
  },
  {
   "cell_type": "markdown",
   "id": "8904cfa9-29e4-40e4-986c-86ae2072c0e9",
   "metadata": {},
   "source": [
    "## Given an array, return the resultant array i.e. result in such a way that result[i] is equal to the product of all the elements of an array except array[i]."
   ]
  },
  {
   "cell_type": "code",
   "execution_count": 77,
   "id": "855c16c0-7749-4fdc-bf8c-ce0e344e097e",
   "metadata": {},
   "outputs": [
    {
     "data": {
      "text/plain": [
       "[-1312740, -656370, -60588, -39780, 3938220, -115830]"
      ]
     },
     "execution_count": 77,
     "metadata": {},
     "output_type": "execute_result"
    }
   ],
   "source": [
    "from functools import reduce\n",
    "def get_multi_array(arr):\n",
    "    new_arr=[]\n",
    "    for i in range(len(arr)):\n",
    "        if i != len(arr)-1:\n",
    "            new_arr.append(reduce(lambda x,y: x*y,arr[:i]+arr[i+1:]))\n",
    "        else:\n",
    "            new_arr.append(reduce(lambda x,y: x*y,arr[:-1]))\n",
    "    return new_arr\n",
    "\n",
    "L=[3,6,65,99,-1,34]\n",
    "get_multi_array(L)\n",
    "\n",
    "def productExceptSelfnum(nums):\n",
    "    n=len(nums)\n",
    "    ans=[]\n",
    "    for i in range(n):\n",
    "        x=1\n",
    "        for j in range(n):\n",
    "            if i!=j:\n",
    "                x*=nums[j]\n",
    "        ans.append(x)\n",
    "    return ans\n",
    "\n",
    "#L=[3,6,10,4,2,5,8]\n",
    "#L=[3,5,9,0,8,3]\n",
    "#L=[0,0,0,0,0]\n",
    "L=[3,6,65,99,-1,34]\n",
    "productExceptSelfnum(L)"
   ]
  },
  {
   "cell_type": "markdown",
   "id": "47d627c4-3a96-4163-8dca-028d5152c942",
   "metadata": {},
   "source": [
    "## Given an integer x, return the prime numbers that are strictly less than x."
   ]
  },
  {
   "cell_type": "code",
   "execution_count": 79,
   "id": "d4c0212c-dcc6-4ea6-b6a2-7a7f687a8b05",
   "metadata": {},
   "outputs": [
    {
     "data": {
      "text/plain": [
       "[2, 3, 5, 7, 11, 13, 17]"
      ]
     },
     "execution_count": 79,
     "metadata": {},
     "output_type": "execute_result"
    }
   ],
   "source": [
    "def is_prime(n):\n",
    "    for i in range(2,n):\n",
    "        if n%i ==0:\n",
    "            return False\n",
    "    return True\n",
    "    \n",
    "def get_last_prime(n):\n",
    "    primes=[]\n",
    "    for i in range(2,n):\n",
    "        if is_prime(i):\n",
    "            primes.append(i)\n",
    "    return primes\n",
    "\n",
    "get_last_prime(19)"
   ]
  },
  {
   "cell_type": "markdown",
   "id": "6baf03ed-d6ce-4c6a-98eb-9803c08e4d7f",
   "metadata": {},
   "source": [
    "## Q12). Given a list of student’s details in a classroom with their names and the marks they got. \n",
    "## Write a program to return students’ details whose marks are greater than the average marks in the classroom."
   ]
  },
  {
   "cell_type": "code",
   "execution_count": 92,
   "id": "5027d96f-5361-49ed-aeef-1b6eb1803f24",
   "metadata": {},
   "outputs": [
    {
     "name": "stdout",
     "output_type": "stream",
     "text": [
      "88.0\n"
     ]
    },
    {
     "data": {
      "text/plain": [
       "[('Mahenra', 90), ('Rakesh', 90), ('Sam', 92), ('Tarun', 96)]"
      ]
     },
     "execution_count": 92,
     "metadata": {},
     "output_type": "execute_result"
    }
   ],
   "source": [
    "Student=[('Mahenra', 90),('Mahi', 78),('Varun', 87),('Sam',92),('Ishak',83),('Tarun',96),('Rakesh',90)]\n",
    "def get_average(student):\n",
    "    x=0\n",
    "    for ele in student:\n",
    "        x += ele[1]\n",
    "    return x/len(student)\n",
    "\n",
    "#averg = map(lambda x,y: x+y)\n",
    "avg=reduce(lambda x,y: x+y,map(lambda x: x[1],Student))/len(Student)\n",
    "print(avg)\n",
    "get_average(Student)\n",
    "aveg= get_average(Student)\n",
    "lis=list(filter(lambda x: x[1]>aveg, sorted(Student, key = lambda x:x[1])))\n",
    "lis"
   ]
  },
  {
   "cell_type": "code",
   "execution_count": null,
   "id": "94179e84-5668-4c97-939e-3c02a1da900d",
   "metadata": {},
   "outputs": [],
   "source": []
  },
  {
   "cell_type": "code",
   "execution_count": null,
   "id": "630791cb-a0b8-406e-8398-705e9a760ede",
   "metadata": {},
   "outputs": [],
   "source": []
  },
  {
   "cell_type": "code",
   "execution_count": null,
   "id": "17eda708-5d3c-45db-9450-a1b6b3db192a",
   "metadata": {},
   "outputs": [],
   "source": []
  }
 ],
 "metadata": {
  "kernelspec": {
   "display_name": "Python 3 (ipykernel)",
   "language": "python",
   "name": "python3"
  },
  "language_info": {
   "codemirror_mode": {
    "name": "ipython",
    "version": 3
   },
   "file_extension": ".py",
   "mimetype": "text/x-python",
   "name": "python",
   "nbconvert_exporter": "python",
   "pygments_lexer": "ipython3",
   "version": "3.11.5"
  }
 },
 "nbformat": 4,
 "nbformat_minor": 5
}
